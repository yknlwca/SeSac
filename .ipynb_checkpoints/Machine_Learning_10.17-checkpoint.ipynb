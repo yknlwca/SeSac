{
 "cells": [
  {
   "cell_type": "markdown",
   "id": "7a5b8f23",
   "metadata": {},
   "source": [
    "# K-Means 알고리즘 (K-Means Clustering)"
   ]
  },
  {
   "cell_type": "markdown",
   "id": "c7b112ea",
   "metadata": {},
   "source": [
    "레이블이 없는 데이터 -> 비지도 학습으로 분류"
   ]
  },
  {
   "cell_type": "markdown",
   "id": "7b0f5091",
   "metadata": {},
   "source": [
    "1) 중심점 설정 / 데이터와 중심점의 거리 구하기\n",
    "2) 가까운 중심점으로 군집화\n",
    "* 최적\n",
    "* 군집간의 거리는 최대한 멀리\n",
    "* 군집내 데이터들의 거리는 최대한 가까이\n",
    "3) 데이터의 평균으로 중심점 이동\n",
    "4) 중심이 변경되지 않을때까지 무한 반복"
   ]
  },
  {
   "cell_type": "markdown",
   "id": "b59ec6d7",
   "metadata": {},
   "source": [
    "최초의 중심점 위치에 따라 군집화 결과 다르게 나온다."
   ]
  },
  {
   "cell_type": "markdown",
   "id": "d7fd033d",
   "metadata": {},
   "source": [
    "* 장점 : 간단한 알고리즘 구현이 용이\n",
    "*        계산시간이 비교적 짧음(속도가 빠름)\n",
    "* 단점 : 결과 해석이 쉽지 않음\n",
    "*        초기 클러스터 개수와 중심에 따라 결과가 크게 달라질 수 있음"
   ]
  },
  {
   "cell_type": "markdown",
   "id": "1e024bd5",
   "metadata": {},
   "source": [
    "# 계층적 군집화"
   ]
  },
  {
   "cell_type": "markdown",
   "id": "ea647e6c",
   "metadata": {},
   "source": [
    "## (H군집 , Hierarchical Clustering)"
   ]
  },
  {
   "cell_type": "markdown",
   "id": "72a5db6c",
   "metadata": {},
   "source": []
  },
  {
   "cell_type": "markdown",
   "id": "2b57e1fd",
   "metadata": {},
   "source": []
  },
  {
   "cell_type": "markdown",
   "id": "3a1c030c",
   "metadata": {},
   "source": []
  },
  {
   "cell_type": "code",
   "execution_count": null,
   "id": "4ca65545",
   "metadata": {},
   "outputs": [],
   "source": []
  },
  {
   "cell_type": "code",
   "execution_count": null,
   "id": "26fc7024",
   "metadata": {},
   "outputs": [],
   "source": []
  },
  {
   "cell_type": "code",
   "execution_count": null,
   "id": "50ec2b8a",
   "metadata": {},
   "outputs": [],
   "source": []
  },
  {
   "cell_type": "code",
   "execution_count": null,
   "id": "63c57817",
   "metadata": {},
   "outputs": [],
   "source": []
  },
  {
   "cell_type": "code",
   "execution_count": null,
   "id": "a5141ed3",
   "metadata": {},
   "outputs": [],
   "source": []
  },
  {
   "cell_type": "code",
   "execution_count": null,
   "id": "254f79cc",
   "metadata": {},
   "outputs": [],
   "source": []
  },
  {
   "cell_type": "code",
   "execution_count": null,
   "id": "53383a1c",
   "metadata": {},
   "outputs": [],
   "source": []
  },
  {
   "cell_type": "code",
   "execution_count": null,
   "id": "6ff8683b",
   "metadata": {},
   "outputs": [],
   "source": []
  },
  {
   "cell_type": "code",
   "execution_count": null,
   "id": "5d8903e2",
   "metadata": {},
   "outputs": [],
   "source": []
  },
  {
   "cell_type": "code",
   "execution_count": null,
   "id": "19a63bc9",
   "metadata": {},
   "outputs": [],
   "source": []
  },
  {
   "cell_type": "code",
   "execution_count": null,
   "id": "153bc4fb",
   "metadata": {},
   "outputs": [],
   "source": []
  },
  {
   "cell_type": "code",
   "execution_count": null,
   "id": "858414b0",
   "metadata": {},
   "outputs": [],
   "source": []
  },
  {
   "cell_type": "code",
   "execution_count": null,
   "id": "5c66f1d2",
   "metadata": {},
   "outputs": [],
   "source": []
  },
  {
   "cell_type": "code",
   "execution_count": null,
   "id": "58bed6ef",
   "metadata": {},
   "outputs": [],
   "source": []
  },
  {
   "cell_type": "code",
   "execution_count": null,
   "id": "f6bdbc57",
   "metadata": {},
   "outputs": [],
   "source": []
  }
 ],
 "metadata": {
  "kernelspec": {
   "display_name": "Python 3 (ipykernel)",
   "language": "python",
   "name": "python3"
  },
  "language_info": {
   "codemirror_mode": {
    "name": "ipython",
    "version": 3
   },
   "file_extension": ".py",
   "mimetype": "text/x-python",
   "name": "python",
   "nbconvert_exporter": "python",
   "pygments_lexer": "ipython3",
   "version": "3.11.4"
  }
 },
 "nbformat": 4,
 "nbformat_minor": 5
}
